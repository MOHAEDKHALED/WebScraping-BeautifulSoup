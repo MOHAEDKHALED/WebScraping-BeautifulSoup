{
 "cells": [
  {
   "cell_type": "markdown",
   "id": "a2131992",
   "metadata": {
    "papermill": {
     "duration": 0.005245,
     "end_time": "2023-07-19T10:56:28.576681",
     "exception": false,
     "start_time": "2023-07-19T10:56:28.571436",
     "status": "completed"
    },
    "tags": []
   },
   "source": [
    "# Import necessary libraries\n"
   ]
  },
  {
   "cell_type": "code",
   "execution_count": 1,
   "id": "55000b73",
   "metadata": {
    "execution": {
     "iopub.execute_input": "2023-07-19T10:56:28.588517Z",
     "iopub.status.busy": "2023-07-19T10:56:28.588052Z",
     "iopub.status.idle": "2023-07-19T10:56:28.834843Z",
     "shell.execute_reply": "2023-07-19T10:56:28.833392Z"
    },
    "papermill": {
     "duration": 0.256327,
     "end_time": "2023-07-19T10:56:28.838052",
     "exception": false,
     "start_time": "2023-07-19T10:56:28.581725",
     "status": "completed"
    },
    "tags": []
   },
   "outputs": [],
   "source": [
    "import requests\n",
    "from bs4 import BeautifulSoup\n"
   ]
  },
  {
   "cell_type": "markdown",
   "id": "4024688c",
   "metadata": {
    "papermill": {
     "duration": 0.004521,
     "end_time": "2023-07-19T10:56:28.847431",
     "exception": false,
     "start_time": "2023-07-19T10:56:28.842910",
     "status": "completed"
    },
    "tags": []
   },
   "source": [
    "# 1. Define the URL of the website you want to scrape\n"
   ]
  },
  {
   "cell_type": "code",
   "execution_count": 2,
   "id": "aa52e8e7",
   "metadata": {
    "execution": {
     "iopub.execute_input": "2023-07-19T10:56:28.859673Z",
     "iopub.status.busy": "2023-07-19T10:56:28.858348Z",
     "iopub.status.idle": "2023-07-19T10:56:28.864402Z",
     "shell.execute_reply": "2023-07-19T10:56:28.863050Z"
    },
    "papermill": {
     "duration": 0.014775,
     "end_time": "2023-07-19T10:56:28.866944",
     "exception": false,
     "start_time": "2023-07-19T10:56:28.852169",
     "status": "completed"
    },
    "tags": []
   },
   "outputs": [],
   "source": [
    "url = 'https://elzero.org/category/topics/'\n"
   ]
  },
  {
   "cell_type": "markdown",
   "id": "1baa7bee",
   "metadata": {
    "papermill": {
     "duration": 0.004484,
     "end_time": "2023-07-19T10:56:28.876169",
     "exception": false,
     "start_time": "2023-07-19T10:56:28.871685",
     "status": "completed"
    },
    "tags": []
   },
   "source": [
    "# Send a GET request to the website and retrieve the HTML content\n"
   ]
  },
  {
   "cell_type": "code",
   "execution_count": 3,
   "id": "1e094331",
   "metadata": {
    "execution": {
     "iopub.execute_input": "2023-07-19T10:56:28.888032Z",
     "iopub.status.busy": "2023-07-19T10:56:28.887375Z",
     "iopub.status.idle": "2023-07-19T10:56:28.990758Z",
     "shell.execute_reply": "2023-07-19T10:56:28.989132Z"
    },
    "papermill": {
     "duration": 0.112909,
     "end_time": "2023-07-19T10:56:28.993916",
     "exception": false,
     "start_time": "2023-07-19T10:56:28.881007",
     "status": "completed"
    },
    "tags": []
   },
   "outputs": [],
   "source": [
    "response = requests.get(url)\n",
    "html_content = response.content"
   ]
  },
  {
   "cell_type": "markdown",
   "id": "2789d89c",
   "metadata": {
    "papermill": {
     "duration": 0.004586,
     "end_time": "2023-07-19T10:56:29.004254",
     "exception": false,
     "start_time": "2023-07-19T10:56:28.999668",
     "status": "completed"
    },
    "tags": []
   },
   "source": [
    "# 2. Create a BeautifulSoup object to parse the HTML content\n"
   ]
  },
  {
   "cell_type": "code",
   "execution_count": 4,
   "id": "f0385c87",
   "metadata": {
    "execution": {
     "iopub.execute_input": "2023-07-19T10:56:29.016271Z",
     "iopub.status.busy": "2023-07-19T10:56:29.015794Z",
     "iopub.status.idle": "2023-07-19T10:56:29.026900Z",
     "shell.execute_reply": "2023-07-19T10:56:29.025477Z"
    },
    "papermill": {
     "duration": 0.020383,
     "end_time": "2023-07-19T10:56:29.029583",
     "exception": false,
     "start_time": "2023-07-19T10:56:29.009200",
     "status": "completed"
    },
    "tags": []
   },
   "outputs": [],
   "source": [
    "soup = BeautifulSoup(html_content, 'html.parser')\n"
   ]
  },
  {
   "cell_type": "markdown",
   "id": "cd177f70",
   "metadata": {
    "papermill": {
     "duration": 0.004416,
     "end_time": "2023-07-19T10:56:29.038859",
     "exception": false,
     "start_time": "2023-07-19T10:56:29.034443",
     "status": "completed"
    },
    "tags": []
   },
   "source": [
    "# Extract the desired information from the website\n",
    "# let's extract all the paragraph text from the website"
   ]
  },
  {
   "cell_type": "code",
   "execution_count": 5,
   "id": "b8375f1a",
   "metadata": {
    "execution": {
     "iopub.execute_input": "2023-07-19T10:56:29.050393Z",
     "iopub.status.busy": "2023-07-19T10:56:29.049952Z",
     "iopub.status.idle": "2023-07-19T10:56:29.055403Z",
     "shell.execute_reply": "2023-07-19T10:56:29.054033Z"
    },
    "papermill": {
     "duration": 0.01427,
     "end_time": "2023-07-19T10:56:29.057995",
     "exception": false,
     "start_time": "2023-07-19T10:56:29.043725",
     "status": "completed"
    },
    "tags": []
   },
   "outputs": [],
   "source": [
    "paragraphs = soup.find_all('p')\n"
   ]
  },
  {
   "cell_type": "markdown",
   "id": "4fdd8ca9",
   "metadata": {
    "papermill": {
     "duration": 0.004812,
     "end_time": "2023-07-19T10:56:29.067939",
     "exception": false,
     "start_time": "2023-07-19T10:56:29.063127",
     "status": "completed"
    },
    "tags": []
   },
   "source": [
    "# 3. Save the result in a text file\n"
   ]
  },
  {
   "cell_type": "code",
   "execution_count": 6,
   "id": "9d0df0b7",
   "metadata": {
    "execution": {
     "iopub.execute_input": "2023-07-19T10:56:29.080194Z",
     "iopub.status.busy": "2023-07-19T10:56:29.079718Z",
     "iopub.status.idle": "2023-07-19T10:56:29.086722Z",
     "shell.execute_reply": "2023-07-19T10:56:29.085324Z"
    },
    "papermill": {
     "duration": 0.01614,
     "end_time": "2023-07-19T10:56:29.089402",
     "exception": false,
     "start_time": "2023-07-19T10:56:29.073262",
     "status": "completed"
    },
    "tags": []
   },
   "outputs": [],
   "source": [
    "output_folder_path = '/kaggle/working/'\n",
    "output_file_path = output_folder_path + 'web_scraping_result.txt'\n",
    "with open('web_scraping_result.txt', 'w', encoding='utf-8') as file:\n",
    "    for paragraph in paragraphs:\n",
    "        file.write(paragraph.get_text() + '\\n')"
   ]
  },
  {
   "cell_type": "markdown",
   "id": "f9947c69",
   "metadata": {
    "papermill": {
     "duration": 0.004529,
     "end_time": "2023-07-19T10:56:29.099256",
     "exception": false,
     "start_time": "2023-07-19T10:56:29.094727",
     "status": "completed"
    },
    "tags": []
   },
   "source": [
    "# Print a success message\n"
   ]
  },
  {
   "cell_type": "code",
   "execution_count": 7,
   "id": "1e38a316",
   "metadata": {
    "execution": {
     "iopub.execute_input": "2023-07-19T10:56:29.111809Z",
     "iopub.status.busy": "2023-07-19T10:56:29.111376Z",
     "iopub.status.idle": "2023-07-19T10:56:29.118127Z",
     "shell.execute_reply": "2023-07-19T10:56:29.116583Z"
    },
    "papermill": {
     "duration": 0.015477,
     "end_time": "2023-07-19T10:56:29.120763",
     "exception": false,
     "start_time": "2023-07-19T10:56:29.105286",
     "status": "completed"
    },
    "tags": []
   },
   "outputs": [
    {
     "name": "stdout",
     "output_type": "stream",
     "text": [
      "Web scraping result saved in web_scraping_result.txt\n"
     ]
    }
   ],
   "source": [
    "print('Web scraping result saved in web_scraping_result.txt')\n"
   ]
  }
 ],
 "metadata": {
  "kernelspec": {
   "display_name": "Python 3",
   "language": "python",
   "name": "python3"
  },
  "language_info": {
   "codemirror_mode": {
    "name": "ipython",
    "version": 3
   },
   "file_extension": ".py",
   "mimetype": "text/x-python",
   "name": "python",
   "nbconvert_exporter": "python",
   "pygments_lexer": "ipython3",
   "version": "3.10.12"
  },
  "papermill": {
   "default_parameters": {},
   "duration": 13.817234,
   "end_time": "2023-07-19T10:56:30.049501",
   "environment_variables": {},
   "exception": null,
   "input_path": "__notebook__.ipynb",
   "output_path": "__notebook__.ipynb",
   "parameters": {},
   "start_time": "2023-07-19T10:56:16.232267",
   "version": "2.4.0"
  }
 },
 "nbformat": 4,
 "nbformat_minor": 5
}
